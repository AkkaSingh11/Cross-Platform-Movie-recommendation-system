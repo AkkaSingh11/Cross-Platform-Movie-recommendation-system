{
 "cells": [
  {
   "cell_type": "code",
   "execution_count": 19,
   "metadata": {},
   "outputs": [],
   "source": [
    "import requests\n",
    "import lxml.html as lh\n",
    "import pandas as pd"
   ]
  },
  {
   "cell_type": "code",
   "execution_count": 8,
   "metadata": {},
   "outputs": [],
   "source": [
    "url='https://www.finder.com/in/amazon-prime-movies'\n",
    "page = requests.get(url)"
   ]
  },
  {
   "cell_type": "code",
   "execution_count": 9,
   "metadata": {},
   "outputs": [],
   "source": [
    "doc = lh.fromstring(page.content)"
   ]
  },
  {
   "cell_type": "code",
   "execution_count": 10,
   "metadata": {},
   "outputs": [],
   "source": [
    "tr_elements = doc.xpath('//tr')"
   ]
  },
  {
   "cell_type": "code",
   "execution_count": 11,
   "metadata": {},
   "outputs": [
    {
     "data": {
      "text/plain": [
       "[8, 8, 8, 8, 8, 8, 8, 8, 8, 8, 8, 8]"
      ]
     },
     "execution_count": 11,
     "metadata": {},
     "output_type": "execute_result"
    }
   ],
   "source": [
    "[len(T) for T in tr_elements[:12]]"
   ]
  },
  {
   "cell_type": "code",
   "execution_count": 13,
   "metadata": {},
   "outputs": [
    {
     "name": "stdout",
     "output_type": "stream",
     "text": [
      "1:\"Name\"\n",
      "2:\"IMDB Rating\"\n",
      "3:\"Duration\"\n",
      "4:\"Year\"\n",
      "5:\"Age\"\n",
      "6:\"Subtitles Available \"\n",
      "7:\"Genres\"\n",
      "8:\"Subtitles\"\n"
     ]
    }
   ],
   "source": [
    "tr_elements = doc.xpath('//tr')\n",
    "#Create empty list\n",
    "col=[]\n",
    "i=0\n",
    "#For each row, store each first element (header) and an empty list\n",
    "for t in tr_elements[0]:\n",
    "    i+=1\n",
    "    name=t.text_content()\n",
    "    print('%d:\"%s\"'%(i,name))\n",
    "    col.append((name,[]))"
   ]
  },
  {
   "cell_type": "code",
   "execution_count": 14,
   "metadata": {},
   "outputs": [],
   "source": [
    "for j in range(1,len(tr_elements)):\n",
    "    #T is our j'th row\n",
    "    T=tr_elements[j]\n",
    "    \n",
    "    #If row is not of size 10, the //tr data is not from our table \n",
    "    if len(T)!=8:\n",
    "        break\n",
    "    \n",
    "    #i is the index of our column\n",
    "    i=0\n",
    "    \n",
    "    #Iterate through each element of the row\n",
    "    for t in T.iterchildren():\n",
    "        data=t.text_content() \n",
    "        #Check if row is empty\n",
    "        if i>0:\n",
    "        #Convert any numerical value to integers\n",
    "            try:\n",
    "                data=int(data)\n",
    "            except:\n",
    "                pass\n",
    "        #Append the data to the empty list of the i'th column\n",
    "        col[i][1].append(data)\n",
    "        #Increment i for the next column\n",
    "        i+=1\n",
    "    "
   ]
  },
  {
   "cell_type": "code",
   "execution_count": 15,
   "metadata": {},
   "outputs": [
    {
     "data": {
      "text/plain": [
       "[4649, 4649, 4649, 4649, 4649, 4649, 4649, 4649]"
      ]
     },
     "execution_count": 15,
     "metadata": {},
     "output_type": "execute_result"
    }
   ],
   "source": [
    "[len(C) for (title,C) in col]"
   ]
  },
  {
   "cell_type": "code",
   "execution_count": 16,
   "metadata": {},
   "outputs": [],
   "source": [
    "Dict={title:column for (title,column) in col}\n",
    "df=pd.DataFrame(Dict)"
   ]
  },
  {
   "cell_type": "code",
   "execution_count": 17,
   "metadata": {},
   "outputs": [
    {
     "data": {
      "text/html": [
       "<div>\n",
       "<style scoped>\n",
       "    .dataframe tbody tr th:only-of-type {\n",
       "        vertical-align: middle;\n",
       "    }\n",
       "\n",
       "    .dataframe tbody tr th {\n",
       "        vertical-align: top;\n",
       "    }\n",
       "\n",
       "    .dataframe thead th {\n",
       "        text-align: right;\n",
       "    }\n",
       "</style>\n",
       "<table border=\"1\" class=\"dataframe\">\n",
       "  <thead>\n",
       "    <tr style=\"text-align: right;\">\n",
       "      <th></th>\n",
       "      <th>Name</th>\n",
       "      <th>IMDB Rating</th>\n",
       "      <th>Duration</th>\n",
       "      <th>Year</th>\n",
       "      <th>Age</th>\n",
       "      <th>Subtitles Available</th>\n",
       "      <th>Genres</th>\n",
       "      <th>Subtitles</th>\n",
       "    </tr>\n",
       "  </thead>\n",
       "  <tbody>\n",
       "    <tr>\n",
       "      <th>0</th>\n",
       "      <td>The Legend of Tarzan</td>\n",
       "      <td>6.3</td>\n",
       "      <td>109 min</td>\n",
       "      <td>2016</td>\n",
       "      <td>13+</td>\n",
       "      <td>CC</td>\n",
       "      <td>Action/Adventure</td>\n",
       "      <td>English [CC]</td>\n",
       "    </tr>\n",
       "    <tr>\n",
       "      <th>1</th>\n",
       "      <td>The Conjuring 2</td>\n",
       "      <td>7.4</td>\n",
       "      <td>133 min</td>\n",
       "      <td>2016</td>\n",
       "      <td>18+</td>\n",
       "      <td>CC</td>\n",
       "      <td>Horror, Thriller</td>\n",
       "      <td></td>\n",
       "    </tr>\n",
       "    <tr>\n",
       "      <th>2</th>\n",
       "      <td>Anomalisa</td>\n",
       "      <td>7.3</td>\n",
       "      <td>90 min</td>\n",
       "      <td>2015</td>\n",
       "      <td>18+</td>\n",
       "      <td>CC</td>\n",
       "      <td>Animated, Drama: Mature</td>\n",
       "      <td>English [CC], हिन्दी</td>\n",
       "    </tr>\n",
       "    <tr>\n",
       "      <th>3</th>\n",
       "      <td>Baghtos Kay Mujra Kar</td>\n",
       "      <td>8.8</td>\n",
       "      <td>141 min</td>\n",
       "      <td>2017</td>\n",
       "      <td>NR</td>\n",
       "      <td>CC</td>\n",
       "      <td>Drama: Family, Drama: Mystery, Romance: Drama,...</td>\n",
       "      <td>English [CC]</td>\n",
       "    </tr>\n",
       "    <tr>\n",
       "      <th>4</th>\n",
       "      <td>13 Hours: The Secret Soldiers of Benghazi</td>\n",
       "      <td>7.3</td>\n",
       "      <td>144 min</td>\n",
       "      <td>2016</td>\n",
       "      <td>NR</td>\n",
       "      <td>CC</td>\n",
       "      <td>Drama</td>\n",
       "      <td>English [CC], हिन्दी</td>\n",
       "    </tr>\n",
       "  </tbody>\n",
       "</table>\n",
       "</div>"
      ],
      "text/plain": [
       "                                        Name IMDB Rating Duration  Year  Age  \\\n",
       "0                       The Legend of Tarzan         6.3  109 min  2016  13+   \n",
       "1                            The Conjuring 2         7.4  133 min  2016  18+   \n",
       "2                                  Anomalisa         7.3   90 min  2015  18+   \n",
       "3                      Baghtos Kay Mujra Kar         8.8  141 min  2017   NR   \n",
       "4  13 Hours: The Secret Soldiers of Benghazi         7.3  144 min  2016   NR   \n",
       "\n",
       "  Subtitles Available                                              Genres  \\\n",
       "0                   CC                                   Action/Adventure   \n",
       "1                   CC                                   Horror, Thriller   \n",
       "2                   CC                            Animated, Drama: Mature   \n",
       "3                   CC  Drama: Family, Drama: Mystery, Romance: Drama,...   \n",
       "4                   CC                                              Drama   \n",
       "\n",
       "              Subtitles  \n",
       "0          English [CC]  \n",
       "1                        \n",
       "2  English [CC], हिन्दी  \n",
       "3          English [CC]  \n",
       "4  English [CC], हिन्दी  "
      ]
     },
     "execution_count": 17,
     "metadata": {},
     "output_type": "execute_result"
    }
   ],
   "source": [
    "df.head()"
   ]
  },
  {
   "cell_type": "code",
   "execution_count": 18,
   "metadata": {},
   "outputs": [],
   "source": [
    "df.to_csv('Amazon Prime Movies.csv')"
   ]
  },
  {
   "cell_type": "code",
   "execution_count": null,
   "metadata": {},
   "outputs": [],
   "source": []
  }
 ],
 "metadata": {
  "kernelspec": {
   "display_name": "Python 3",
   "language": "python",
   "name": "python3"
  },
  "language_info": {
   "codemirror_mode": {
    "name": "ipython",
    "version": 3
   },
   "file_extension": ".py",
   "mimetype": "text/x-python",
   "name": "python",
   "nbconvert_exporter": "python",
   "pygments_lexer": "ipython3",
   "version": "3.7.1"
  }
 },
 "nbformat": 4,
 "nbformat_minor": 4
}
